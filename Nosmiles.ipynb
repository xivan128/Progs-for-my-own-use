{
 "cells": [
  {
   "cell_type": "markdown",
   "metadata": {},
   "source": [
    "Delete all the \"smiles\" from string\n",
    "\n",
    "\"smile\": strats with :- than ( or )\n",
    "\n",
    "There could be more than one bracket in the smile, but they haveto be the same\n",
    "\n",
    "minimum 3 symbols in total\n",
    "\n",
    "sample input/output is shown below\n",
    "\n"
   ]
  },
  {
   "cell_type": "code",
   "execution_count": 2,
   "metadata": {},
   "outputs": [
    {
     "data": {
      "text/plain": [
       "'gxgxggdfffffdfxf:)'"
      ]
     },
     "execution_count": 2,
     "metadata": {},
     "output_type": "execute_result"
    }
   ],
   "source": [
    "input = 'gxgxgg:-)))dffff:-(fdfxf:)'\n",
    "output = 'gxgxggdfffffdfxf:)'       \n"
   ]
  },
  {
   "cell_type": "code",
   "execution_count": 28,
   "metadata": {},
   "outputs": [
    {
     "name": "stdout",
     "output_type": "stream",
     "text": [
      "gxgxgg:-)))dffff:-(fdfxf:)\n",
      "Found start\n",
      "Third symbol is a bracket, see it\n",
      ")\n",
      "Found start\n",
      "Third symbol is a bracket, see it\n",
      "(\n",
      "gxgxggdfffffdfxf:)\n",
      "gxgxggdfffffdfxf:)\n"
     ]
    }
   ],
   "source": [
    "def Findsmile (Istr):\n",
    "    start=':-'\n",
    "    brackets={'(', ')'}\n",
    "    Ostr=''\n",
    "    l=len(Istr)\n",
    "    i=0\n",
    "    while i<l:\n",
    "        if Istr[i:i+2]==start:\n",
    "            print(\"Found start\")\n",
    "            #print(Istr[i:i+2])\n",
    "            if Istr[i+2] in brackets:\n",
    "                print(\"Third symbol is a bracket, see it\")\n",
    "                print(Istr[i+2])\n",
    "                j=i+3\n",
    "                bracket = Istr[i+2]\n",
    "                #print(\"bracket-loop is about to start\", Istr[j] == bracket  )\n",
    "                while Istr[j] == bracket:\n",
    "                    j+=1\n",
    "                    #print(j)\n",
    "                i=j\n",
    "            else:\n",
    "                print(\"No bracket as a third symbol. Nothing to delete here.\")\n",
    "            Ostr+=Istr[i:i+2]\n",
    "            i+=2\n",
    "        else:\n",
    "            Ostr+=Istr[i]\n",
    "            i+=1\n",
    "    return Ostr                   \n",
    "\n",
    "print(input)\n",
    "print(Findsmile(input))\n",
    "print(output)\n",
    "    "
   ]
  },
  {
   "cell_type": "code",
   "execution_count": 31,
   "metadata": {},
   "outputs": [
    {
     "name": "stdout",
     "output_type": "stream",
     "text": [
      "Found start\n",
      "Third symbol is a bracket, see it\n",
      "(\n",
      "sdd-:()fffa))fgg\n"
     ]
    }
   ],
   "source": [
    "sInp=\"sdd-:()fffa:-(())fgg\"\n",
    "print(Findsmile(sInp))"
   ]
  },
  {
   "cell_type": "code",
   "execution_count": null,
   "metadata": {},
   "outputs": [],
   "source": []
  }
 ],
 "metadata": {
  "kernelspec": {
   "display_name": "Python 3",
   "language": "python",
   "name": "python3"
  },
  "language_info": {
   "codemirror_mode": {
    "name": "ipython",
    "version": 3
   },
   "file_extension": ".py",
   "mimetype": "text/x-python",
   "name": "python",
   "nbconvert_exporter": "python",
   "pygments_lexer": "ipython3",
   "version": "3.8.5"
  }
 },
 "nbformat": 4,
 "nbformat_minor": 4
}
